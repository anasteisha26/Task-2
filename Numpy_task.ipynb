{
  "nbformat": 4,
  "nbformat_minor": 0,
  "metadata": {
    "colab": {
      "provenance": [],
      "authorship_tag": "ABX9TyOAWMdQaV8CcJ78M0zZDhut"
    },
    "kernelspec": {
      "name": "python3",
      "display_name": "Python 3"
    },
    "language_info": {
      "name": "python"
    }
  },
  "cells": [
    {
      "cell_type": "code",
      "source": [
        "import numpy as np"
      ],
      "metadata": {
        "id": "nDuX7Cj5i6JB"
      },
      "execution_count": 3,
      "outputs": []
    },
    {
      "cell_type": "code",
      "source": [
        "# 1. Дан случайный массив, поменять знак у элементов, значения которых между 3 и 8\n",
        "\n",
        "random_array = np.random.randint(0,50, size=(10, 10))\n",
        "random_array"
      ],
      "metadata": {
        "colab": {
          "base_uri": "https://localhost:8080/"
        },
        "id": "GOamMCkGi7_r",
        "outputId": "15424f16-795f-460c-e2bc-e274ce922b98"
      },
      "execution_count": 5,
      "outputs": [
        {
          "output_type": "execute_result",
          "data": {
            "text/plain": [
              "array([[ 2, 11, 41, 41, 44,  9, 20, 29, 44,  6],\n",
              "       [33, 38, 38,  5, 26, 43, 26,  4, 42, 47],\n",
              "       [ 0,  4, 47, 13,  7, 23,  8, 37, 23,  2],\n",
              "       [43, 36, 18, 39,  6,  4, 10,  8, 15,  5],\n",
              "       [22, 36, 42, 13, 10, 45, 24, 12, 36, 20],\n",
              "       [42,  4, 28, 12, 19, 41, 26, 15, 26,  6],\n",
              "       [13, 18,  9, 34,  0, 19, 40,  3, 42, 25],\n",
              "       [ 1, 39,  6, 42, 32, 15, 41, 27, 17, 10],\n",
              "       [44, 14, 24,  8, 34, 23, 25, 47, 27, 35],\n",
              "       [38,  2,  4, 11, 16, 43, 18, 12,  8, 10]])"
            ]
          },
          "metadata": {},
          "execution_count": 5
        }
      ]
    },
    {
      "cell_type": "code",
      "source": [
        "np.where((3 < random_array) & (random_array < 8), -1*random_array, random_array)"
      ],
      "metadata": {
        "id": "Qj2Ytbgcjnj8",
        "colab": {
          "base_uri": "https://localhost:8080/"
        },
        "outputId": "475f049b-3baf-4645-f7be-4911fd1bdf1e"
      },
      "execution_count": null,
      "outputs": [
        {
          "output_type": "execute_result",
          "data": {
            "text/plain": [
              "array([[38, -6, 49, 21, 12, 20, -6, 29, 30, 38],\n",
              "       [15, 12, 47, 46, 31, 17, 10, 42, 37, 21],\n",
              "       [-6, 37, 27, -6, 18, 25, 43, 37, 44, 38],\n",
              "       [20, 16, 18, 36, 17, 14, -7, 20, 37, 38],\n",
              "       [14, 12,  0, 10, 14, 25,  2, 16, 32, 14],\n",
              "       [ 2, 32, 11,  1, 41, 17, 15, 46, 28, 10],\n",
              "       [40, 43, 48, 31, 31, 20, 41, 11, 38, -4],\n",
              "       [49, 11, 49, 36, 37, 17, 38, 19, 21, -7],\n",
              "       [27, 25, 47, 32, 42, 47, 35, 10, 15, 38],\n",
              "       [25, 12, -6, 33,  1, 12, 30, 38, 32, 22]])"
            ]
          },
          "metadata": {},
          "execution_count": 49
        }
      ]
    },
    {
      "cell_type": "code",
      "source": [
        "# 2. Заменить максимальный элемент случайного массива на 0\n",
        "\n",
        "max_index = np.unravel_index(np.argmax(random_array), random_array.shape)\n",
        "random_array[max_index] = 0\n",
        "random_array"
      ],
      "metadata": {
        "colab": {
          "base_uri": "https://localhost:8080/"
        },
        "id": "EG1Huk92lZED",
        "outputId": "b9ede2da-cc00-4429-e279-3060d34c9704"
      },
      "execution_count": null,
      "outputs": [
        {
          "output_type": "execute_result",
          "data": {
            "text/plain": [
              "array([[10, 23,  9, 18,  0, 19, 30,  1,  2,  5],\n",
              "       [17, 18, 10, 23, 38,  3, 24, 22, 13, 27],\n",
              "       [28, 25, 26, 41,  9,  7, 33, 37, 18, 14],\n",
              "       [ 7,  5,  8, 40, 32, 16,  9, 20, 35, 27],\n",
              "       [27,  0, 24, 15,  6, 29,  6, 22, 34, 43],\n",
              "       [43, 17,  5, 44, 21,  0, 48, 15, 28, 39],\n",
              "       [23, 37, 44, 41,  3, 24, 33, 20,  8, 31],\n",
              "       [ 1,  1, 21, 33, 47, 34,  3, 20, 41, 43],\n",
              "       [ 3, 39,  0,  2, 41, 24, 33, 43, 19, 45],\n",
              "       [23,  3, 16, 39, 43,  5,  2,  6, 14, 10]])"
            ]
          },
          "metadata": {},
          "execution_count": 63
        }
      ]
    },
    {
      "cell_type": "code",
      "source": [
        "# 3. Построить прямое произведение массивов (все комбинации с каждым элементом). На вход подается двумерный массив.\n",
        "array_2d = np.array([[1, 2, 3, 4, 5],\n",
        "                     [6, 7, 8, 9, 10]])\n",
        "\n",
        "# Compute the Cartesian product\n",
        "cartesian_product = np.transpose([np.tile(array_2d[0], len(array_2d[1])),\n",
        "                                  np.repeat(array_2d[1], len(array_2d[0]))])\n",
        "\n",
        "print(\"Cartesian Product:\")\n",
        "print(cartesian_product)\n",
        "\n"
      ],
      "metadata": {
        "colab": {
          "base_uri": "https://localhost:8080/"
        },
        "id": "_vMzOmLhG6En",
        "outputId": "c5e2efbd-1d65-4187-9a3e-f5fb348a5ba3"
      },
      "execution_count": null,
      "outputs": [
        {
          "output_type": "stream",
          "name": "stdout",
          "text": [
            "Cartesian Product:\n",
            "[[ 1  6]\n",
            " [ 2  6]\n",
            " [ 3  6]\n",
            " [ 4  6]\n",
            " [ 5  6]\n",
            " [ 1  7]\n",
            " [ 2  7]\n",
            " [ 3  7]\n",
            " [ 4  7]\n",
            " [ 5  7]\n",
            " [ 1  8]\n",
            " [ 2  8]\n",
            " [ 3  8]\n",
            " [ 4  8]\n",
            " [ 5  8]\n",
            " [ 1  9]\n",
            " [ 2  9]\n",
            " [ 3  9]\n",
            " [ 4  9]\n",
            " [ 5  9]\n",
            " [ 1 10]\n",
            " [ 2 10]\n",
            " [ 3 10]\n",
            " [ 4 10]\n",
            " [ 5 10]]\n"
          ]
        }
      ]
    },
    {
      "cell_type": "code",
      "source": [
        "# 4. Даны 2 массива A (8x3) и B (2x2). Найти строки в A, которые содержат\n",
        "# элементы из каждой строки в B, независимо от порядка элементов в B\n",
        "\n",
        "A = np.random.randint(0, 6, size=(8, 3))\n",
        "B = np.random.randint(0, 6, size=(2, 2))\n",
        "print(A)\n",
        "print()\n",
        "print()\n",
        "print(B)\n",
        "print()\n",
        "\n",
        "for row in A:\n",
        "    if np.all(np.isin(row, B)):\n",
        "        print(f\"Строки A, элементы которых полностью есть в B:\")\n",
        "        print(row)"
      ],
      "metadata": {
        "colab": {
          "base_uri": "https://localhost:8080/"
        },
        "id": "5FV0RUQ27HgQ",
        "outputId": "18d29e75-ac26-4ef9-bd3a-21d5063e3c6c"
      },
      "execution_count": null,
      "outputs": [
        {
          "output_type": "stream",
          "name": "stdout",
          "text": [
            "[[5 2 5]\n",
            " [5 5 0]\n",
            " [5 5 5]\n",
            " [3 1 3]\n",
            " [0 2 0]\n",
            " [0 0 0]\n",
            " [4 5 1]\n",
            " [5 0 2]]\n",
            "\n",
            "\n",
            "[[3 3]\n",
            " [4 5]]\n",
            "\n",
            "Строки A, элементы которых полностью есть в B:\n",
            "[5 5 5]\n"
          ]
        }
      ]
    },
    {
      "cell_type": "code",
      "source": [
        "# 5. Дана 10x3 матрица, найти строки из неравных значений\n",
        "# (например строка [2,2,3] остается, строка [3,3,3] удаляется)\n",
        "\n",
        "fifth_matrix = np.random.randint(0,3, size=(10, 3))\n",
        "print(\"Given matrix:\")\n",
        "print(fifth_matrix)\n",
        "\n",
        "\n",
        "def all_elements_same(array):\n",
        "    # Convert the list of arrays to a 2D Numpy array\n",
        "    arr = np.array(array)\n",
        "\n",
        "    # Check if all elements in each row are equal to the first element\n",
        "    return (arr == arr[:, 0, None]).all(axis=1)\n",
        "\n",
        "result = all_elements_same(fifth_matrix)\n",
        "print()\n",
        "print(\"Rows with not equal elements:\")\n",
        "for row_idx, is_same in enumerate(result):\n",
        "    if not is_same:\n",
        "        print(f\"Row {row_idx}: {fifth_matrix[row_idx]}\")\n",
        "\n",
        "print()\n",
        "\n",
        "print(\"Rows with the same elements, that were deleted:\")\n",
        "for row_idx, is_same in enumerate(result):\n",
        "    if is_same:\n",
        "        print(f\"Row {row_idx}: {fifth_matrix[row_idx]}\")"
      ],
      "metadata": {
        "colab": {
          "base_uri": "https://localhost:8080/"
        },
        "id": "R6alLYiu-LJg",
        "outputId": "e3de1a97-bd03-45dd-e680-a48fd6b864a0"
      },
      "execution_count": null,
      "outputs": [
        {
          "output_type": "stream",
          "name": "stdout",
          "text": [
            "Given matrix:\n",
            "[[1 2 1]\n",
            " [0 1 2]\n",
            " [2 0 2]\n",
            " [0 2 2]\n",
            " [1 0 1]\n",
            " [1 1 0]\n",
            " [0 0 0]\n",
            " [1 1 1]\n",
            " [1 2 1]\n",
            " [1 2 0]]\n",
            "\n",
            "Rows with not equal elements:\n",
            "Row 0: [1 2 1]\n",
            "Row 1: [0 1 2]\n",
            "Row 2: [2 0 2]\n",
            "Row 3: [0 2 2]\n",
            "Row 4: [1 0 1]\n",
            "Row 5: [1 1 0]\n",
            "Row 8: [1 2 1]\n",
            "Row 9: [1 2 0]\n",
            "\n",
            "Rows with the same elements, that were deleted:\n",
            "Row 6: [0 0 0]\n",
            "Row 7: [1 1 1]\n"
          ]
        }
      ]
    },
    {
      "cell_type": "code",
      "source": [
        "# 6. Дан двумерный массив. Удалить те строки, которые повторяются.\n",
        "\n",
        "sixth_arr = np.random.randint(0,4, size=(20, 3))\n",
        "print(\"The initial 2-d array:\")\n",
        "print()\n",
        "print(sixth_arr)\n",
        "print()\n",
        "print(f\"The amount of rows:\", sixth_arr.shape[0])\n",
        "\n",
        "print()\n",
        "print()\n",
        "print(\"The array with only unique values:\")\n",
        "unique_rows = np.unique(sixth_arr, axis = 0)\n",
        "print(unique_rows)\n",
        "print()\n",
        "print(f\"The amount of rows:\", unique_rows.shape[0])\n",
        "print()\n",
        "print(f\"{sixth_arr.shape[0]-unique_rows.shape[0]} rows were not unique and, therefore, deleted.\")"
      ],
      "metadata": {
        "colab": {
          "base_uri": "https://localhost:8080/"
        },
        "id": "7aMcstki4aJD",
        "outputId": "a9cf03d7-8007-4ac8-b4ef-9226e2ae4dcc"
      },
      "execution_count": null,
      "outputs": [
        {
          "output_type": "stream",
          "name": "stdout",
          "text": [
            "The initial 2-d array:\n",
            "\n",
            "[[0 2 2]\n",
            " [1 3 3]\n",
            " [2 1 0]\n",
            " [2 0 1]\n",
            " [1 0 2]\n",
            " [2 1 2]\n",
            " [0 1 2]\n",
            " [0 0 1]\n",
            " [2 0 3]\n",
            " [3 0 1]\n",
            " [3 3 2]\n",
            " [0 1 0]\n",
            " [2 2 2]\n",
            " [1 2 3]\n",
            " [1 0 2]\n",
            " [2 1 1]\n",
            " [1 3 2]\n",
            " [3 1 3]\n",
            " [2 1 1]\n",
            " [0 2 1]]\n",
            "\n",
            "The amount of rows: 20\n",
            "\n",
            "\n",
            "The array with only unique values:\n",
            "[[0 0 1]\n",
            " [0 1 0]\n",
            " [0 1 2]\n",
            " [0 2 1]\n",
            " [0 2 2]\n",
            " [1 0 2]\n",
            " [1 2 3]\n",
            " [1 3 2]\n",
            " [1 3 3]\n",
            " [2 0 1]\n",
            " [2 0 3]\n",
            " [2 1 0]\n",
            " [2 1 1]\n",
            " [2 1 2]\n",
            " [2 2 2]\n",
            " [3 0 1]\n",
            " [3 1 3]\n",
            " [3 3 2]]\n",
            "\n",
            "The amount of rows: 18\n",
            "\n",
            "2 rows were not unique and, therefore, deleted.\n"
          ]
        }
      ]
    },
    {
      "cell_type": "code",
      "source": [
        "#######################################################################################\n",
        "# Tasks pure Python v.s. Numpy"
      ],
      "metadata": {
        "id": "1GxM05695jsM"
      },
      "execution_count": 17,
      "outputs": []
    },
    {
      "cell_type": "code",
      "source": [
        "# Задача 1. Подсчитать произведение ненулевых элементов на диагонали прямоугольной матрицы.\n",
        "# Например, для X = np.array([ [1, 0, 1],\n",
        "#                              [2, 0, 2],\n",
        "#                              [3, 0, 3],\n",
        "#                              [4, 4, 4]]) ответ 3.\n",
        "\n",
        "# Numpy solution\n",
        "\n",
        "rand_array = np.random.randint(0,7, size=(4, 6))\n",
        "print(rand_array)\n",
        "\n",
        "print()\n",
        "not_null_values_multiplicated = 1\n",
        "diagonal_values = np.diagonal(rand_array)\n",
        "print(f\"The values on a diagonal: {diagonal_values}\")\n",
        "for value in diagonal_values:\n",
        "  if value != 0:\n",
        "    not_null_values_multiplicated = not_null_values_multiplicated * value\n",
        "print(f\"The product of these values: {not_null_values_multiplicated}\")"
      ],
      "metadata": {
        "colab": {
          "base_uri": "https://localhost:8080/"
        },
        "id": "Yab1AGzx4yFw",
        "outputId": "699f873f-62f5-4a19-c75e-5ad11cd2f114"
      },
      "execution_count": null,
      "outputs": [
        {
          "output_type": "stream",
          "name": "stdout",
          "text": [
            "[[4 2 4 0 0 5]\n",
            " [0 6 6 3 3 5]\n",
            " [0 4 2 4 1 0]\n",
            " [4 6 5 5 6 0]]\n",
            "\n",
            "The values on a diagonal: [4 6 2 5]\n",
            "The product of these values: 240\n"
          ]
        }
      ]
    },
    {
      "cell_type": "code",
      "source": [
        "# Pure Python solution\n",
        "\n",
        "from random import randint\n",
        "\n",
        "print(\"The given matrix:\")\n",
        "matrix=[]\n",
        "for i in range(4):\n",
        "    line=[]\n",
        "    for j in range(6):\n",
        "        line.append(randint(0,5))\n",
        "    matrix.append(line)\n",
        "for line in matrix:\n",
        "  print(line)\n",
        "\n",
        "print()\n",
        "print(\"The diagonal values:\")\n",
        "product=1\n",
        "for i in range(5):\n",
        "    for j in range(3):\n",
        "        if i==j and matrix[i][j]!=0:\n",
        "          print(matrix[i][j])\n",
        "          product=product*matrix[i][j]\n",
        "\n",
        "print()\n",
        "print(f\"The product of diagonal values is: {product}\")"
      ],
      "metadata": {
        "colab": {
          "base_uri": "https://localhost:8080/"
        },
        "id": "LAl-79PZ_zOS",
        "outputId": "20114af0-bd8f-4951-ed4c-0cd39c6f17a9"
      },
      "execution_count": null,
      "outputs": [
        {
          "output_type": "stream",
          "name": "stdout",
          "text": [
            "The given matrix:\n",
            "[4, 5, 5, 3, 4, 0]\n",
            "[4, 2, 5, 1, 5, 5]\n",
            "[0, 5, 0, 5, 5, 5]\n",
            "[4, 2, 3, 3, 1, 2]\n",
            "\n",
            "The diagonal values:\n",
            "4\n",
            "2\n",
            "\n",
            "The product of diagonal values is: 8\n"
          ]
        }
      ]
    },
    {
      "cell_type": "code",
      "source": [
        "# Задача 2: Даны два вектора x и y. Проверить, задают ли они одно и то же мультимножество.\n",
        "# Например, для x = np.array([1, 2, 2, 4]), y = np.array([4, 2, 1, 2]) ответ True.\n",
        "\n",
        "# Numpy solution\n",
        "\n",
        "x=np.random.randint(0,3,5)\n",
        "print(x)\n",
        "y=np.random.randint(0,3,5)\n",
        "print(y)\n",
        "\n",
        "if np.array_equal(np.sort(x), np.sort(y)):\n",
        "    print(\"The arrays create the same multiset.\")\n",
        "else:\n",
        "    print(\"The arrays do not create the same multiset.\")"
      ],
      "metadata": {
        "colab": {
          "base_uri": "https://localhost:8080/"
        },
        "id": "oop93w0gDHNo",
        "outputId": "7d8883ca-157e-4a1c-9140-e170b96ff648"
      },
      "execution_count": null,
      "outputs": [
        {
          "output_type": "stream",
          "name": "stdout",
          "text": [
            "[2 0 2 2 1]\n",
            "[1 0 1 2 0]\n",
            "The arrays do not create the same multiset.\n"
          ]
        }
      ]
    },
    {
      "cell_type": "code",
      "source": [
        "# Python solution\n",
        "import random\n",
        "\n",
        "listik =[]\n",
        "\n",
        "for i in range(5):\n",
        "  random_int = random.randint(0, 3)\n",
        "  listik.append(random_int)\n",
        "print(listik)\n",
        "\n",
        "listochek =[]\n",
        "\n",
        "for i in range(5):\n",
        "  random_int = random.randint(0, 3)\n",
        "  listochek.append(random_int)\n",
        "print(listochek)\n",
        "\n",
        "are_equal_sorted = sorted(listik) == sorted(listochek)\n",
        "if are_equal_sorted:\n",
        "    print(\"The lists have the same elements.\")\n",
        "else:\n",
        "    print(\"The lists do not have the same elements.\")\n"
      ],
      "metadata": {
        "colab": {
          "base_uri": "https://localhost:8080/"
        },
        "id": "xZVs_1TnYwBd",
        "outputId": "7d29ad2d-af98-43b4-a776-157a0377bb0f"
      },
      "execution_count": null,
      "outputs": [
        {
          "output_type": "stream",
          "name": "stdout",
          "text": [
            "[3, 0, 1, 2, 1]\n",
            "[1, 0, 3, 1, 2]\n",
            "The lists have the same elements.\n"
          ]
        }
      ]
    },
    {
      "cell_type": "code",
      "source": [
        "# Задача 3: Найти максимальный элемент в векторе x среди элементов,\n",
        "# перед которыми стоит ноль. Например, для x = np.array([6, 2, 0, 3, 0, 0, 5, 7, 0]) ответ 5.\n",
        "\n",
        "#Python solution:\n",
        "import random\n",
        "x = []\n",
        "for i in range (20):\n",
        "    x.append(random.randint(0,4))\n",
        "print(x)\n",
        "print()\n",
        "\n",
        "try:\n",
        "  list_before_null = []\n",
        "  for i, element in enumerate(x):\n",
        "      if i > 0 and x[i - 1] == 0:\n",
        "          list_before_null.append(element)\n",
        "except:\n",
        "  print(\"There is no zeros in array.\")\n",
        "\n",
        "\n",
        "print(\"The list of values that have 0 before them:\")\n",
        "print(list_before_null)\n",
        "print()\n",
        "print(\"The biggest value out of them:\")\n",
        "print(max(list_before_null))"
      ],
      "metadata": {
        "colab": {
          "base_uri": "https://localhost:8080/"
        },
        "id": "g5hm2SlqaUH1",
        "outputId": "8491c5c9-8d2a-458a-aad1-d38fb475113d"
      },
      "execution_count": null,
      "outputs": [
        {
          "output_type": "stream",
          "name": "stdout",
          "text": [
            "[2, 3, 4, 1, 1, 1, 4, 4, 0, 0, 4, 4, 4, 0, 4, 3, 3, 4, 4, 1]\n",
            "\n",
            "The list of values that have 0 before them:\n",
            "[0, 4, 4]\n",
            "\n",
            "The biggest value out of them:\n",
            "4\n"
          ]
        }
      ]
    },
    {
      "cell_type": "code",
      "source": [
        "# Numpy solution\n",
        "\n",
        "random_arry =np.random.randint(0,7,15)\n",
        "print(random_arry)\n",
        "\n",
        "values_after_zero = []\n",
        "\n",
        "for i in range(len(random_arry) - 1):\n",
        "    if random_arry[i] == 0:\n",
        "        values_after_zero.append(random_arry[i + 1])\n",
        "\n",
        "try:\n",
        "    print(\"The largest value immediately after 0 is:\", max(values_after_zero))\n",
        "except:\n",
        "    print(\"No values found immediately after 0.\")\n"
      ],
      "metadata": {
        "colab": {
          "base_uri": "https://localhost:8080/"
        },
        "id": "-slR364Zyv8h",
        "outputId": "878985a0-f188-49fc-8104-20fcbac2f329"
      },
      "execution_count": null,
      "outputs": [
        {
          "output_type": "stream",
          "name": "stdout",
          "text": [
            "[2 4 0 6 3 3 5 0 0 1 1 3 5 2 2]\n",
            "The largest value immediately after 0 is: 6\n"
          ]
        }
      ]
    },
    {
      "cell_type": "code",
      "source": [
        "# Задача 4: Реализовать кодирование длин серий (Run-length encoding).\n",
        "# Для некоторого вектора x необходимо вернуть кортеж из двух векторов одинаковой длины.\n",
        "# Первый содержит числа, а второй - сколько раз их нужно повторить.\n",
        "# Например, для x = np.array([2, 2, 2, 3, 3, 3, 5]) ответ (np.array([2, 3, 5]), np.array([3, 3, 1])).\n",
        "\n",
        "# Python solution:\n",
        "def run_length_encode(arr):\n",
        "    values = []\n",
        "    lengths = []\n",
        "    current_value = arr[0]\n",
        "    current_length = 1\n",
        "\n",
        "    for i in range(1, len(arr)):\n",
        "        if arr[i] == current_value:\n",
        "            current_length += 1\n",
        "        else:\n",
        "            values.append(current_value)\n",
        "            lengths.append(current_length)\n",
        "\n",
        "            current_value = arr[i]\n",
        "            current_length = 1\n",
        "\n",
        "    values.append(current_value)\n",
        "    lengths.append(current_length)\n",
        "\n",
        "    values = np.array(values)\n",
        "    lengths = np.array(lengths)\n",
        "\n",
        "    return values, lengths\n",
        "\n",
        "arr =np.random.randint(0,4,15)\n",
        "print(\"Given array:\", arr)\n",
        "print()\n",
        "\n",
        "encoded_values, run_lengths = run_length_encode(arr)\n",
        "returned_list = (encoded_values, run_lengths)\n",
        "\n",
        "print(returned_list)"
      ],
      "metadata": {
        "colab": {
          "base_uri": "https://localhost:8080/"
        },
        "id": "X1JQD4Ws0Chs",
        "outputId": "0c55752b-6ff3-4436-aad6-28b44a226f52"
      },
      "execution_count": null,
      "outputs": [
        {
          "output_type": "stream",
          "name": "stdout",
          "text": [
            "Given array: [0 1 1 3 1 3 2 2 3 0 0 1 1 3 2]\n",
            "\n",
            "(array([0, 1, 3, 1, 3, 2, 3, 0, 1, 3, 2]), array([1, 2, 1, 1, 1, 2, 1, 2, 2, 1, 1]))\n"
          ]
        }
      ]
    },
    {
      "cell_type": "code",
      "source": [
        "# Numpy solution:\n",
        "\n",
        "def run_length_encoding(arr):\n",
        "    diff = np.concatenate(([True], arr[1:] != arr[:-1], [True]))\n",
        "    idx = np.flatnonzero(diff)\n",
        "\n",
        "    lengths = np.diff(idx)\n",
        "\n",
        "    values = arr[idx[:-1]]\n",
        "\n",
        "    return values, lengths\n",
        "\n",
        "arr =np.random.randint(0,4,15)\n",
        "print(arr)\n",
        "values, lengths = run_length_encoding(arr)\n",
        "print(\"Values:\", values)\n",
        "print(\"Lengths:\", lengths)\n"
      ],
      "metadata": {
        "colab": {
          "base_uri": "https://localhost:8080/"
        },
        "id": "c4cHCSAJ_Bsk",
        "outputId": "43788c4b-2bb3-4d08-bd82-07b786e583b2"
      },
      "execution_count": null,
      "outputs": [
        {
          "output_type": "stream",
          "name": "stdout",
          "text": [
            "[3 2 0 2 1 1 1 2 0 1 0 2 3 2 2]\n",
            "Values: [3 2 0 2 1 2 0 1 0 2 3 2]\n",
            "Lengths: [1 1 1 1 3 1 1 1 1 1 1 2]\n"
          ]
        }
      ]
    },
    {
      "cell_type": "code",
      "source": [
        "# Задача 5: Даны две выборки объектов - X и Y. Вычислить матрицу евклидовых расстояний между объектами.\n",
        "# Сравните с функцией scipy.spatial.distance.cdist по скорости работы.\n",
        "\n",
        "# Numpy solution\n",
        "\n",
        "from scipy.spatial import distance\n",
        "\n",
        "X = np.array([[1, 2, 3], [4, 5, 6], [7, 8, 9]])\n",
        "Y = np.array([[2, 4, 6], [1, 3, 5]])\n",
        "\n",
        "# Calculate Euclidean distance using NumPy\n",
        "distance_matrix = np.linalg.norm(X[:, np.newaxis] - Y, axis=2)\n",
        "\n",
        "print(\"Euclidean distance matrix:\")\n",
        "print(distance_matrix)\n",
        "\n",
        "# Compare with scipy.spatial.distance.cdist\n",
        "scipy_distance_matrix = distance.cdist(X, Y, metric='euclidean')\n",
        "\n",
        "print(\"\\nScipy distance matrix:\")\n",
        "print(scipy_distance_matrix)\n"
      ],
      "metadata": {
        "id": "3WCOmMfHF2jZ",
        "colab": {
          "base_uri": "https://localhost:8080/"
        },
        "outputId": "d72013e5-057b-4c4e-be88-40b52f8cbadc"
      },
      "execution_count": 14,
      "outputs": [
        {
          "output_type": "stream",
          "name": "stdout",
          "text": [
            "Euclidean distance matrix:\n",
            "[[3.74165739 2.23606798]\n",
            " [2.23606798 3.74165739]\n",
            " [7.07106781 8.77496439]]\n",
            "\n",
            "Scipy distance matrix:\n",
            "[[3.74165739 2.23606798]\n",
            " [2.23606798 3.74165739]\n",
            " [7.07106781 8.77496439]]\n"
          ]
        }
      ]
    },
    {
      "cell_type": "code",
      "source": [
        "# Python solution\n",
        "def euclidean_distance(a, b):\n",
        "    assert len(a) == len(b), \"Input vectors must have the same length\"\n",
        "\n",
        "    squared_diffs = [(x - y) ** 2 for x, y in zip(a, b)]\n",
        "\n",
        "    distance = sum(squared_diffs) ** 0.5\n",
        "\n",
        "    return distance\n",
        "\n",
        "X = [(1, 2, 3), (4, 5, 6), (7, 8, 9)]\n",
        "Y = [(2, 4, 6), (1, 3, 5)]\n",
        "\n",
        "distance_matrix = []\n",
        "\n",
        "for x in X:\n",
        "    row_distances = [euclidean_distance(x, y) for y in Y]\n",
        "    distance_matrix.append(row_distances)\n",
        "\n",
        "for row in distance_matrix:\n",
        "    print(row)\n"
      ],
      "metadata": {
        "colab": {
          "base_uri": "https://localhost:8080/"
        },
        "id": "0SPYZbSA49UA",
        "outputId": "e74c1c05-c76e-4ce5-e5a9-d64b4d07b311"
      },
      "execution_count": 15,
      "outputs": [
        {
          "output_type": "stream",
          "name": "stdout",
          "text": [
            "[3.7416573867739413, 2.23606797749979]\n",
            "[2.23606797749979, 3.7416573867739413]\n",
            "[7.0710678118654755, 8.774964387392123]\n"
          ]
        }
      ]
    },
    {
      "cell_type": "code",
      "source": [
        "##################################################################################"
      ],
      "metadata": {
        "id": "X8QN4b3r4uIK"
      },
      "execution_count": null,
      "outputs": []
    },
    {
      "cell_type": "code",
      "source": [
        "# Задача 6.\n",
        "\n",
        "# 1. Просмотрите файл cereal.csv. Этот файл содержит количества калорий\n",
        "# для различных марок хлопьев. Загрузите данные из файла и сохраните их как calorie_stats.\n",
        "\n",
        "\n",
        "calorie_stats = np.loadtxt(\"/content/cereal.csv\", delimiter=\",\")\n",
        "calorie_stats"
      ],
      "metadata": {
        "colab": {
          "base_uri": "https://localhost:8080/"
        },
        "id": "xvf5-ltnKugd",
        "outputId": "af350306-349b-4639-8be7-307102b082ee"
      },
      "execution_count": 7,
      "outputs": [
        {
          "output_type": "execute_result",
          "data": {
            "text/plain": [
              "array([ 70., 120.,  70.,  50., 110., 110., 110., 130.,  90.,  90., 120.,\n",
              "       110., 120., 110., 110., 110., 100., 110., 110., 110., 100., 110.,\n",
              "       100., 100., 110., 110., 100., 120., 120., 110., 100., 110., 100.,\n",
              "       110., 120., 120., 110., 110., 110., 140., 110., 100., 110., 100.,\n",
              "       150., 150., 160., 100., 120., 140.,  90., 130., 120., 100.,  50.,\n",
              "        50., 100., 100., 120., 100.,  90., 110., 110.,  80.,  90.,  90.,\n",
              "       110., 110.,  90., 110., 140., 100., 110., 110., 100., 100., 110.])"
            ]
          },
          "metadata": {},
          "execution_count": 7
        }
      ]
    },
    {
      "cell_type": "code",
      "source": [
        "# 2. В одной порции CrunchieMunchies содержится 60 калорий.\n",
        "# Насколько выше среднее количество калорий у ваших конкурентов?\n",
        "# Сохраните ответ в переменной average_calories и распечатайте переменную в терминале.\n",
        "\n",
        "average_calories = np.round(np.average(calorie_stats))\n",
        "print(\"The average amount of calories of competitors' products is:\", average_calories)\n",
        "print(\"It is, on average,\",average_calories - 60,\"calories, or,\", np.round(100*(47/60)),\"% higher.\")\n"
      ],
      "metadata": {
        "colab": {
          "base_uri": "https://localhost:8080/"
        },
        "id": "iXQQNAY7LS6I",
        "outputId": "9fc6880e-3820-4136-e36b-967c3a495d8e"
      },
      "execution_count": null,
      "outputs": [
        {
          "output_type": "stream",
          "name": "stdout",
          "text": [
            "The average amount of calories of competitors' products is: 107.0\n",
            "It is, on average, 47.0 calories, or, 78.0 % higher.\n"
          ]
        }
      ]
    },
    {
      "cell_type": "code",
      "source": [
        "# 3. Корректно ли среднее количество калорий отражает распределение набора данных?\n",
        "# Давайте отсортируем данные и посмотрим.\n",
        "# Отсортируйте данные и сохраните результат в переменной calorie_stats_sorted.\n",
        "# Распечатайте отсортированную информацию.\n",
        "\n",
        "calorie_stats_sorted = np.sort(calorie_stats)\n",
        "print(\"Sorted data:\")\n",
        "print()\n",
        "calorie_stats_sorted"
      ],
      "metadata": {
        "colab": {
          "base_uri": "https://localhost:8080/"
        },
        "id": "CiDVdlZqMDTl",
        "outputId": "827e1c54-54a0-48b2-a27f-4c16b3b68ca7"
      },
      "execution_count": null,
      "outputs": [
        {
          "output_type": "stream",
          "name": "stdout",
          "text": [
            "Sorted data:\n",
            "\n"
          ]
        },
        {
          "output_type": "execute_result",
          "data": {
            "text/plain": [
              "array([ 50.,  50.,  50.,  70.,  70.,  80.,  90.,  90.,  90.,  90.,  90.,\n",
              "        90.,  90., 100., 100., 100., 100., 100., 100., 100., 100., 100.,\n",
              "       100., 100., 100., 100., 100., 100., 100., 100., 110., 110., 110.,\n",
              "       110., 110., 110., 110., 110., 110., 110., 110., 110., 110., 110.,\n",
              "       110., 110., 110., 110., 110., 110., 110., 110., 110., 110., 110.,\n",
              "       110., 110., 110., 110., 120., 120., 120., 120., 120., 120., 120.,\n",
              "       120., 120., 120., 130., 130., 140., 140., 140., 150., 150., 160.])"
            ]
          },
          "metadata": {},
          "execution_count": 98
        }
      ]
    },
    {
      "cell_type": "code",
      "source": [
        "# 4. Похоже, что большинство значений выше среднего. Давайте посмотрим,\n",
        "# является ли медиана наиболее корректным показателем набора данных.\n",
        "# Вычислите медиану набора данных и сохраните свой ответ в median_calories.\n",
        "# Выведите медиану, чтобы вы могли видеть, как она сравнивается со средним значением.\n",
        "\n",
        "median_calories = np.median(calorie_stats)\n",
        "print(\"Median:\",median_calories)\n",
        "print(\"Mean:\",average_calories)\n",
        "\n",
        "print()\n",
        "print(calorie_stats_sorted)\n",
        "print()\n",
        "print(\"Yes, median seems to reflect the tendency more correctly.\")"
      ],
      "metadata": {
        "colab": {
          "base_uri": "https://localhost:8080/"
        },
        "id": "qG12UylBOuhl",
        "outputId": "230fa853-85bd-4a5a-f033-e49a733a4dc8"
      },
      "execution_count": null,
      "outputs": [
        {
          "output_type": "stream",
          "name": "stdout",
          "text": [
            "Median: 110.0\n",
            "Mean: 107.0\n",
            "\n",
            "[ 50.  50.  50.  70.  70.  80.  90.  90.  90.  90.  90.  90.  90. 100.\n",
            " 100. 100. 100. 100. 100. 100. 100. 100. 100. 100. 100. 100. 100. 100.\n",
            " 100. 100. 110. 110. 110. 110. 110. 110. 110. 110. 110. 110. 110. 110.\n",
            " 110. 110. 110. 110. 110. 110. 110. 110. 110. 110. 110. 110. 110. 110.\n",
            " 110. 110. 110. 120. 120. 120. 120. 120. 120. 120. 120. 120. 120. 130.\n",
            " 130. 140. 140. 140. 150. 150. 160.]\n",
            "\n",
            "Yes, median seems to reflect the tendency more correctly.\n"
          ]
        }
      ]
    },
    {
      "cell_type": "code",
      "source": [
        "# 5. В то время как медиана показывает, что по крайней мере половина\n",
        "# наших значений составляет более 100 калорий, было бы более впечатляюще показать,\n",
        "# что значительная часть конкурентов имеет более высокое количество калорий, чем CrunchieMunchies.\n",
        "# Рассчитайте различные процентили и распечатайте их, пока не найдете наименьший процентиль,\n",
        "# превышающий 60 калорий. Сохраните это значение в переменной nth_percentile.\n",
        "\n",
        "print(\"Percentile - 50. Calories:\", np.percentile(calorie_stats, 50))\n",
        "print(\"Percentile - 40. Calories:\", np.percentile(calorie_stats, 40))\n",
        "print(\"Percentile - 20. Calories:\", np.percentile(calorie_stats, 20))\n",
        "print(\"Percentile - 15. Calories:\", np.percentile(calorie_stats, 15))\n",
        "print(\"Percentile - 10. Calories:\", np.percentile(calorie_stats, 10))\n",
        "print(\"Percentile - 7. Calories:\", np.percentile(calorie_stats, 7))\n",
        "print(\"Percentile - 4. Calories:\", np.percentile(calorie_stats, 4))\n",
        "print(\"Percentile - 3. Calories:\", np.percentile(calorie_stats, 3))\n",
        "print()\n",
        "print(\"The lowest percentile, whose value is > 60 calories, is 4.\")"
      ],
      "metadata": {
        "colab": {
          "base_uri": "https://localhost:8080/"
        },
        "id": "8kaBWmnWPmkD",
        "outputId": "82f1e6b8-d106-4660-dcbf-a6ed98023ba6"
      },
      "execution_count": null,
      "outputs": [
        {
          "output_type": "stream",
          "name": "stdout",
          "text": [
            "Percentile - 50. Calories: 110.0\n",
            "Percentile - 40. Calories: 110.0\n",
            "Percentile - 20. Calories: 100.0\n",
            "Percentile - 15. Calories: 90.0\n",
            "Percentile - 10. Calories: 90.0\n",
            "Percentile - 7. Calories: 83.2\n",
            "Percentile - 4. Calories: 70.0\n",
            "Percentile - 3. Calories: 55.599999999999994\n",
            "\n",
            "The lowest percentile, whose value is > 60 calories, is 4.\n"
          ]
        }
      ]
    },
    {
      "cell_type": "code",
      "source": [
        "# 6. Хотя процентиль показывает нам, что у большинства конкурентов количество калорий намного выше,\n",
        "# это неудобная концепция для использования в маркетинговых материалах.\n",
        "# Вместо этого давайте подсчитаем процент хлопьев, в которых содержится более 60 калорий на порцию.\n",
        "# Сохраните свой ответ в переменной more_calories и распечатайте его\n",
        "\n",
        "more_than_sixty = 100 - 4\n",
        "print(f\"Only 4% of competitors have as little calories as our product. \\\n",
        "And {more_than_sixty}% of competitors have more calories than we do.\")"
      ],
      "metadata": {
        "colab": {
          "base_uri": "https://localhost:8080/"
        },
        "id": "Mn81A9EuQ-TA",
        "outputId": "8bcd60f9-7c39-4a2c-c706-5d0cea8f72fb"
      },
      "execution_count": null,
      "outputs": [
        {
          "output_type": "stream",
          "name": "stdout",
          "text": [
            "Only 4% of competitors have as little calories as our product. And 96% of competitors have more calories than we do.\n"
          ]
        }
      ]
    },
    {
      "cell_type": "code",
      "source": [
        "# 7. Это действительно высокий процент. Это будет очень полезно, когда мы будем продвигать CrunchieMunchies.\n",
        "# Но один вопрос заключается в том, насколько велики различия в наборе данных?\n",
        "# Можем ли мы сделать обобщение, что в большинстве злаков содержится около 100 калорий или разброс еще больше?\n",
        "# Рассчитайте величину отклонения, найдя стандартное отклонение,\n",
        "# Сохраните свой ответ в calorie_std и распечатайте на терминале. Как мы можем включить эту ценность в наш анализ?\n",
        "\n",
        "std = np.std(calorie_stats)\n",
        "our_deviation = (110-60)/19\n",
        "print(f\"The standard deviation is {std}.\")\n",
        "print()\n",
        "print(f\"It means that the majority has the range of calories from 90 to 130. But our product is {our_deviation} deviations below the average!\")"
      ],
      "metadata": {
        "colab": {
          "base_uri": "https://localhost:8080/"
        },
        "id": "CBwdkjjqT91T",
        "outputId": "372529cd-3f1e-4dea-e9de-e5f204ad829e"
      },
      "execution_count": 13,
      "outputs": [
        {
          "output_type": "stream",
          "name": "stdout",
          "text": [
            "The standard deviation is 19.35718533390827.\n",
            "\n",
            "It means that the majority has the range of calories from 90 to 130. But our product is 2.6315789473684212 deviations below the average!\n"
          ]
        }
      ]
    },
    {
      "cell_type": "code",
      "source": [
        "# 8. Напишите короткий абзац, в котором кратко изложите свои выводы и то, как,\n",
        "# по вашему мнению, эти данные могут быть использованы в интересах Mycrunch\n",
        "# при маркетинге CrunchieMunchies.\n",
        "\n",
        "\n",
        "# Практически никто на рынке не может сравниться с CrunchieMunchies по такой низкокалорийности!\n",
        "# Производитель входит в 4 % самых низкокалорийных производителей. Калорийность их продукта - сильно ниже среднего.\n",
        "# Это отличный point для рекламы."
      ],
      "metadata": {
        "id": "6kIIoIiIU17G"
      },
      "execution_count": null,
      "outputs": []
    }
  ]
}